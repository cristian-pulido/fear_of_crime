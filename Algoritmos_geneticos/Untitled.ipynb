{
 "cells": [
  {
   "cell_type": "code",
   "execution_count": 12,
   "metadata": {},
   "outputs": [],
   "source": [
    "from utils import *"
   ]
  },
  {
   "cell_type": "code",
   "execution_count": 23,
   "metadata": {},
   "outputs": [],
   "source": [
    "class AG:\n",
    "    \n",
    "    def __init__(self, nombre,persons,\n",
    "                 individuals,mode_initial_pop,\n",
    "                 n_generations,\n",
    "                 p_crossover,\n",
    "                 p_mutation=None,\n",
    "                 crossover_func=ruleta,\n",
    "                 generacional=False,\n",
    "                 fitness_func=fitness_basic):\n",
    "        self.nombre=nombre\n",
    "        self.persons = persons\n",
    "        self.gens = int(persons*(persons-1)/2)\n",
    "        if individuals % 2 == 1:\n",
    "            individuals+=1\n",
    "        self.individuals=individuals\n",
    "        self.current_population=None\n",
    "        self.mode_initial_pop=mode_initial_pop\n",
    "        self.fitness_func=fitness_func\n",
    "        self.fitness={}\n",
    "        self.n_generations=n_generations\n",
    "        self.current_generation=1\n",
    "        self.generations={1:{}}\n",
    "        self.p_crossover=p_crossover\n",
    "        if not p_mutation:\n",
    "            p_mutation=1.0/self.gens\n",
    "        self.p_mutation=p_mutation\n",
    "        self.crossover_func=crossover_func\n",
    "        self.generacional=generacional\n",
    "        \n",
    "    def generate_pop_ini(self):\n",
    "        self.mode_initial_pop(self)\n",
    "        \n",
    "    def validate_grade_individual(self,individual):\n",
    "        n=self.persons\n",
    "        X=convert_individual_to_graph(n,individual)\n",
    "        return sum(dict(nx.degree(X)).values())/n\n",
    "        \n",
    "    def show_dist_deggre_pop(self,size=(12,5),save=None):\n",
    "        D=list(map(self.validate_grade_individual,self.current_population))\n",
    "        fig = plt.figure()\n",
    "        fig.set_size_inches(size[0], size[1])\n",
    "        ax1 = fig.add_subplot(121)\n",
    "        ax1.set_title(\"Distribution\")\n",
    "        ax2 = fig.add_subplot(122)\n",
    "        ax2.set_title(\"Points\")\n",
    "        ax1.set_xlabel(\"Average Degree\")\n",
    "        ax1.set_ylabel(\"Frequency\")\n",
    "        ax2.set_xlabel(\"Average Degree\")\n",
    "        sns.distplot(D,kde=False,ax=ax1)\n",
    "        sns.swarmplot(x=D,ax=ax2)\n",
    "        \n",
    "        if save:\n",
    "            plt.savefig(save,dpi=300)\n",
    "            \n",
    "           \n",
    "    def evaluate_fitness_ind(self,individual):\n",
    "        t_f=t_form(individual)\n",
    "        \n",
    "        if t_f not in self.fitness:\n",
    "            return self.fitness_func(individual)            \n",
    "        else:\n",
    "            return self.fitness[t_f]\n",
    "            \n",
    "    def evaluate_pop(self,P,offspring=None):\n",
    "        values=list(map(self.evaluate_fitness_ind,P))\n",
    "        for i,v in zip(P,values):\n",
    "            self.fitness[t_form(i)]=v\n",
    "        \n",
    "        if not offspring:\n",
    "            self.generations[self.current_generation]={\"Average Fitness\":np.mean(values),\n",
    "                                                       \"Best Individual\":P[np.argmax(values)],\n",
    "                                                       \"Fitness Best\":np.max(values)\n",
    "            }\n",
    "            \n",
    "            return np.array(values),self.generations[self.current_generation] \n",
    "        else:\n",
    "            return values\n",
    "    \n",
    "    def get_parents(self):\n",
    "        \n",
    "        return self.crossover_func(self.current_population,self.evaluate_pop(self.current_population)[0])\n",
    "    \n",
    "    def get_children(self,parents):\n",
    "        \n",
    "        def sub_process(P1,P2):\n",
    "            linea_cruce=(np.random.randint(self.gens,size=len(P1))*(np.random.rand(len(P1)) < self.p_crossover)).reshape(len(P1),1)\n",
    "            cruce=np.arange(self.gens)*np.ones_like(P1) >= linea_cruce\n",
    "            H1=P1*(~cruce)+ P2*(cruce)\n",
    "\n",
    "            muta1=(np.random.rand(H1.size).reshape(H1.shape) < self.p_mutation)*linea_cruce.astype(bool)\n",
    "            H1=(H1+muta1)%2\n",
    "            H2=P1*(cruce)+ P2*(~cruce)\n",
    "            muta2=(np.random.rand(H2.size).reshape(H2.shape) < self.p_mutation)*linea_cruce.astype(bool)\n",
    "            H2=(H2+muta2)%2\n",
    "            \n",
    "            return H1, H2\n",
    "            \n",
    "            \n",
    "        P1=parents[::2]\n",
    "        P2=parents[1::2]\n",
    "        H1,H2 = sub_process(P1,P2)\n",
    "        V1=pd.Series([validate_individual(self.persons,i) for i in H1])\n",
    "        V2=pd.Series([validate_individual(self.persons,i) for i in H2])\n",
    "        index=np.arange(self.individuals/2)[~(V1 & V2)].astype(int)\n",
    "        \n",
    "        while len(index) > 0:\n",
    "            P1=parents[index*2]\n",
    "            P2=parents[index*2+1]\n",
    "            aux=sub_process(P1,P2)\n",
    "            H1[index]=aux[0]\n",
    "            H2[index]=aux[1]\n",
    "            V1=pd.Series([validate_individual(self.persons,i) for i in H1])\n",
    "            V2=pd.Series([validate_individual(self.persons,i) for i in H2])\n",
    "            index=np.arange(self.individuals/2)[~(V1 & V2)].astype(int)           \n",
    "        \n",
    "\n",
    "        return H1, H2\n",
    "    \n",
    "    def evolution(self):\n",
    "        PA=self.get_parents()\n",
    "        P1=PA[::2]\n",
    "        P2=PA[1::2]\n",
    "        H1,H2 = self.get_children(PA)\n",
    "        \n",
    "        if self.generacional == False:\n",
    "            H1_values=AG_1.evaluate_pop(H1,offspring=True)\n",
    "            H2_values=AG_1.evaluate_pop(H2,offspring=True)\n",
    "            PA_values=AG_1.evaluate_pop(PA,offspring=True)\n",
    "            P1_values=PA_values[::2]\n",
    "            P2_values=PA_values[1::2]\n",
    "\n",
    "            A=np.array([H1,H2,P1,P2])\n",
    "            values=np.array([H1_values,H2_values,P1_values,P2_values]).T\n",
    "            L = np.argsort(-values, axis=1)\n",
    "            best=L[:,:2]\n",
    "            K=[]\n",
    "            for i in range(len(best)):\n",
    "                K.append(pd.DataFrame(A[best[i],i]))\n",
    "            self.current_population = pd.concat(K).values\n",
    "        else:\n",
    "            self.current_population = np.concatenate((H1,H2))                    \n",
    "        self.current_generation+=1\n",
    "        return self.evaluate_pop(self.current_population)[1]   \n",
    "    \n",
    "    def plot_results(self,size=(12,5),save=None):\n",
    "        fig = plt.figure()\n",
    "        fig.set_size_inches(size[0], size[1])\n",
    "        ax1 = fig.add_subplot(111)\n",
    "        ax1.set_title(\"Results\")\n",
    "        ax1.set_xlabel(\"Generation\")\n",
    "        ax1.set_ylabel(\"Fitness\")\n",
    "        \n",
    "        sns.lineplot(np.arange(AG_1.current_generation),\n",
    "                     [ i['Average Fitness'] for i in AG_1.generations.values()],\n",
    "                     ax=ax1,\n",
    "                     label='Average Fitness')\n",
    "        sns.lineplot(np.arange(AG_1.current_generation),\n",
    "                     [ i['Fitness Best'] for i in AG_1.generations.values()],\n",
    "                     ax=ax1,\n",
    "                     label='Fitness Best')\n",
    "        \n",
    "        \n",
    "        if save:\n",
    "            plt.savefig(save,dpi=300)\n",
    "    def run(self):\n",
    "        self.generate_pop_ini()\n",
    "        self.show_dist_deggre_pop()\n",
    "        for i in range(self.n_generations):\n",
    "            self.evolution()\n",
    "        self.plot_results()"
   ]
  },
  {
   "cell_type": "code",
   "execution_count": 24,
   "metadata": {},
   "outputs": [
    {
     "name": "stdout",
     "output_type": "stream",
     "text": [
      "nombre suma\n",
      "Persons 50\n",
      "Gens 1225\n",
      "individuals 100\n",
      "n_generations 20\n",
      "mode_initial_pop <function pop_ini_uniform at 0x7f7539147620>\n",
      "p_crossover 0.7\n",
      "p_mutation 0.0008163265306122449\n",
      "crossover_func <function ruleta at 0x7f75391478c8>\n",
      "generacional False\n"
     ]
    }
   ],
   "source": [
    "AG_1=AG(nombre=\"suma\",\n",
    "        persons=50,\n",
    "        individuals=100,\n",
    "        mode_initial_pop=pop_ini_uniform,\n",
    "        n_generations=20,\n",
    "        p_crossover=0.7,\n",
    "        p_mutation=None,\n",
    "        crossover_func=ruleta,\n",
    "        generacional=False,\n",
    "        fitness_func=fitness_basic)\n",
    "print(\"nombre\",AG_1.nombre)\n",
    "print(\"Persons\",AG_1.persons)\n",
    "print(\"Gens\",AG_1.gens)\n",
    "print(\"individuals\",AG_1.individuals)\n",
    "print(\"n_generations\",AG_1.n_generations)\n",
    "print(\"mode_initial_pop\",AG_1.mode_initial_pop)\n",
    "print(\"p_crossover\",AG_1.p_crossover)\n",
    "print(\"p_mutation\",AG_1.p_mutation)\n",
    "print(\"crossover_func\",AG_1.crossover_func)\n",
    "print(\"generacional\",AG_1.generacional)"
   ]
  },
  {
   "cell_type": "code",
   "execution_count": 25,
   "metadata": {},
   "outputs": [],
   "source": [
    "import time"
   ]
  },
  {
   "cell_type": "code",
   "execution_count": 26,
   "metadata": {},
   "outputs": [
    {
     "data": {
      "text/plain": [
       "6.595824480056763"
      ]
     },
     "execution_count": 26,
     "metadata": {},
     "output_type": "execute_result"
    },
    {
     "data": {
      "image/png": "[encoded data removed]",
      "text/plain": [
       "<Figure size 864x360 with 2 Axes>"
      ]
     },
     "metadata": {
      "needs_background": "light"
     },
     "output_type": "display_data"
    },
    {
     "data": {
      "image/png": "[encoded data removed]",
      "text/plain": [
       "<Figure size 864x360 with 1 Axes>"
      ]
     },
     "metadata": {
      "needs_background": "light"
     },
     "output_type": "display_data"
    }
   ],
   "source": [
    "t1=time.time()\n",
    "AG_1.run()\n",
    "time.time()-t1"
   ]
  },
  {
   "cell_type": "code",
   "execution_count": null,
   "metadata": {},
   "outputs": [],
   "source": []
  }
 ],
 "metadata": {
  "kernelspec": {
   "display_name": "Python 3",
   "language": "python",
   "name": "python3"
  },
  "language_info": {
   "codemirror_mode": {
    "name": "ipython",
    "version": 3
   },
   "file_extension": ".py",
   "mimetype": "text/x-python",
   "name": "python",
   "nbconvert_exporter": "python",
   "pygments_lexer": "ipython3",
   "version": "3.7.3"
  }
 },
 "nbformat": 4,
 "nbformat_minor": 2
}
