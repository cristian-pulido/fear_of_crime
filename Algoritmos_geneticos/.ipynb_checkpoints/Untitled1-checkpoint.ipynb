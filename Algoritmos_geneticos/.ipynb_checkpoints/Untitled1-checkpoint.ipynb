{
 "cells": [
  {
   "cell_type": "code",
   "execution_count": 1,
   "metadata": {},
   "outputs": [],
   "source": [
    "from utils import *\n",
    "import os, shutil"
   ]
  },
  {
   "cell_type": "code",
   "execution_count": 16,
   "metadata": {},
   "outputs": [],
   "source": [
    "class HAEA:\n",
    "    \n",
    "    \n",
    "    def __init__(self, nombre,persons,\n",
    "                 individuals,mode_initial_pop,\n",
    "                 n_generations,\n",
    "                 p_mutation=None,\n",
    "                 generacional=False,\n",
    "                 fitness_func=fitness_basic,\n",
    "                 n_offsprings=n_offsprings,\n",
    "                 operators=[(mutation_usual,1),(crossover_usual,2),(swap_mutation,1)]\n",
    "                ):\n",
    "        \n",
    "        self.nombre=nombre\n",
    "        self.persons = persons\n",
    "        self.gens = int(persons*(persons-1)/2)\n",
    "        self.individuals=individuals\n",
    "        self.current_population=None\n",
    "        self.mode_initial_pop=mode_initial_pop\n",
    "        self.fitness_func=fitness_func\n",
    "        self.fitness={}\n",
    "        self.n_generations=n_generations\n",
    "        self.current_generation=1\n",
    "        self.generations={1:{}}\n",
    "        if not p_mutation:\n",
    "            p_mutation=1.0/self.gens\n",
    "        self.p_mutation=p_mutation\n",
    "        self.generacional=generacional\n",
    "        self.n_offsprings=n_offsprings\n",
    "        self.operators=operators\n",
    "        p_operators=np.random.rand(len(operators))\n",
    "        self.p_operators=p_operators/p_operators.sum()\n",
    "        self.historial_p_operators={1:self.p_operators}\n",
    "               \n",
    "        \n",
    "        import warnings\n",
    "        warnings.filterwarnings(\"ignore\", category=FutureWarning)\n",
    "\n",
    "        \n",
    "    def info(self):\n",
    "        \n",
    "        I=pd.DataFrame([self.nombre,self.persons,self.gens,\n",
    "                        self.individuals,self.p_mutation,\n",
    "                        self.generacional,self.operators,self.p_operators\n",
    "                       ],\n",
    "                       index=[\"Name\",\"Persons\",\"Gens\",\n",
    "                              \"individuals\",\"p_mutation\",\n",
    "                              \"generacional\",\"operators\",'p_operators'                                \n",
    "                               ],\n",
    "                       columns=[\"Values\"]\n",
    "        )\n",
    "        return I\n",
    "        \n",
    "        \n",
    "    def generate_pop_ini(self):\n",
    "        self.mode_initial_pop(self)\n",
    "        \n",
    "    def validate_grade_individual(self,individual):\n",
    "        \n",
    "        n=self.persons\n",
    "        X=convert_individual_to_graph(n,individual)\n",
    "        return sum(dict(nx.degree(X)).values())/n\n",
    "        \n",
    "    def show_dist_deggre_pop(self,size=(12,5),save=None):\n",
    "        D=list(map(self.validate_grade_individual,self.current_population))\n",
    "        fig = plt.figure()\n",
    "        fig.set_size_inches(size[0], size[1])\n",
    "        ax1 = fig.add_subplot(121)\n",
    "        ax1.set_title(\"Distribution\")\n",
    "        ax2 = fig.add_subplot(122)\n",
    "        ax2.set_title(\"Points\")\n",
    "        ax1.set_xlabel(\"Average Degree\")\n",
    "        ax1.set_ylabel(\"Frequency\")\n",
    "        ax2.set_xlabel(\"Average Degree\")\n",
    "        sns.distplot(D,kde=False,ax=ax1)\n",
    "        sns.swarmplot(x=D,ax=ax2)\n",
    "        \n",
    "        if save:\n",
    "            plt.savefig(save,dpi=300)\n",
    "            \n",
    "        plt.show()\n",
    "            \n",
    "    def evaluate_fitness_ind(self,individual):\n",
    "\n",
    "        t_f=t_form(individual)\n",
    "        \n",
    "        if t_f not in self.fitness:\n",
    "            #print(self.fitness_func(individual))\n",
    "            return self.fitness_func(individual)            \n",
    "        else:\n",
    "            #print(self.fitness[t_f])\n",
    "            return self.fitness[t_f]\n",
    "            \n",
    "    def evaluate_pop(self,P,offspring=None):\n",
    "        import multiprocessing\n",
    "        from joblib import Parallel, delayed\n",
    "        num_cores = multiprocessing.cpu_count()\n",
    "        \n",
    "        values = Parallel(n_jobs=num_cores)(delayed(self.evaluate_fitness_ind)(i) for i in P)\n",
    "                \n",
    "        for i,v in zip(P,values):\n",
    "            self.fitness[t_form(i)]=v\n",
    "        \n",
    "        if not offspring:\n",
    "            self.generations[self.current_generation]={\"Average Fitness\":np.mean(values),\n",
    "                                                       \"Best Individual\":P[np.argmax(values)],\n",
    "                                                       \"Fitness Best\":np.max(values),\n",
    "                                                       \"Fitness Worst\":np.min(values),\n",
    "            }\n",
    "            \n",
    "            return np.array(values),self.generations[self.current_generation] \n",
    "        else:\n",
    "            return values\n",
    "        \n",
    "        \n",
    "    def get_offspring(self,individual):\n",
    "        n_offsprings=self.n_offsprings\n",
    "        index_operator=np.random.choice(np.arange(len(self.operators)),p=self.p_operators)\n",
    "        operator,d=H.operators[index_operator]\n",
    "\n",
    "        if d == 1:   \n",
    "            offspring=np.zeros((n_offsprings,self.gens))\n",
    "            for i in range(n_offsprings):\n",
    "                offspring[i]=self.operators[index_operator][0](individual,self.persons)\n",
    "        else:\n",
    "            offspring=np.zeros((n_offsprings*2,self.gens))\n",
    "            for i in range(n_offsprings):\n",
    "                individual2=self.current_population[np.random.choice(self.individuals)]\n",
    "                offspring[i:i+2]=np.array(self.operators[index_operator][0](individual,individual2,self.persons,1))\n",
    "\n",
    "\n",
    "\n",
    "        offspring=np.array(offspring)\n",
    "\n",
    "        return offspring,index_operator\n",
    "        \n",
    "        \n",
    "    \n",
    "        \n",
    "    def get_parents(self):\n",
    "        \n",
    "        #print(self.evaluate_pop(self.current_population)[0])\n",
    "        P=self.crossover_func(self.current_population,self.evaluate_pop(self.current_population)[0])\n",
    "        return P[::2], P[1::2]\n",
    "    \n",
    "    \n",
    "    \n",
    "\n",
    "    def crossover(self,P1,P2):\n",
    "        \n",
    "        cruce=list(map(crossover_usual,P1,P2,[self.persons]*len(P1),[self.p_crossover]*len(P1)))\n",
    "        \n",
    "        return cruce\n",
    "\n",
    "    def mutation(self,p1,p2,c):\n",
    "        ind_aux=np.array([p1,p2,c[0],c[1]])\n",
    "        no_cruce = (t_form(p1) == t_form(c[0])) | (t_form(p1) == t_form(c[1])) | (t_form(p2) == t_form(c[0])) | (t_form(p2) == t_form(c[1]))\n",
    "        if no_cruce == True:\n",
    "            return np.array([p1,p2])\n",
    "        else:\n",
    "            hijos_mut=np.array(list(map(self.mutation_func,c,[self.persons]*len(c),[self.p_mutation]*len(c))))\n",
    "            return hijos_mut\n",
    "        \n",
    "    def select_best(self,p1,p2,c):\n",
    "        ind_aux=np.array([p1,p2,c[0],c[1]])\n",
    "        no_cruce = (t_form(p1) == t_form(c[0])) | (t_form(p1) == t_form(c[1])) | (t_form(p2) == t_form(c[0])) | (t_form(p2) == t_form(c[1]))\n",
    "        if no_cruce == True:\n",
    "            return np.array([p1,p2])\n",
    "        else:\n",
    "            fitness=list(map(self.evaluate_fitness_ind,ind_aux))\n",
    "            hijos=ind_aux[np.argpartition(fitness,1)[::-1][:2]]\n",
    "            return hijos\n",
    "\n",
    "    \n",
    "    def evolution(self):\n",
    "        P1,P2=self.get_parents()\n",
    "        cruce=self.crossover(P1,P2)\n",
    "        cruce_mut=list(map(self.mutation,P1,P2,cruce))\n",
    "        \n",
    "        if self.generacional == True:\n",
    "            self.current_population =np.concatenate(cruce_mut)\n",
    "        else:\n",
    "            self.current_population = np.concatenate(list(map(self.select_best,P1,P2,cruce_mut)))\n",
    "                           \n",
    "        self.current_generation+=1\n",
    "        self.fitness={}\n",
    "        #return self.evaluate_pop(self.current_population)[1]   \n",
    "        return 0\n",
    "    \n",
    "    def plot_results(self,size=(12,5),save=None):\n",
    "        fig = plt.figure()\n",
    "        fig.set_size_inches(size[0], size[1])\n",
    "        ax1 = fig.add_subplot(111)\n",
    "        ax1.set_title(\"Results\")\n",
    "        ax1.set_xlabel(\"Generation\")\n",
    "        ax1.set_ylabel(\"Fitness\")\n",
    "        \n",
    "        sns.lineplot(np.arange(self.current_generation-1),\n",
    "                     [ i['Average Fitness'] for i in self.generations.values()],\n",
    "                     ax=ax1,ci='sd',\n",
    "                     label='Average Fitness')\n",
    "        sns.lineplot(np.arange(self.current_generation-1),\n",
    "                     [ i['Fitness Best'] for i in self.generations.values()],\n",
    "                     ax=ax1,\n",
    "                     label='Fitness Best')\n",
    "        sns.lineplot(np.arange(self.current_generation-1),\n",
    "                     [ i[\"Fitness Worst\"] for i in self.generations.values()],\n",
    "                     ax=ax1,\n",
    "                     label=\"Fitness Worst\")      \n",
    "        if save:\n",
    "            plt.savefig(save,dpi=300)\n",
    "            \n",
    "        plt.show()\n",
    "            \n",
    "    def run(self,size=(12,5),save_dist=None,save_results=None):\n",
    "        self.generate_pop_ini()\n",
    "        self.show_dist_deggre_pop(size=size,save=save_dist)\n",
    "        for i in range(self.n_generations):\n",
    "            self.evolution()\n",
    "            self.show_dist_deggre_pop()\n",
    "        self.plot_results(size=size,save=save_results)\n",
    "        \n",
    "    def run_alone(self,size=(12,5),path_dir=\"\",console=True,plots=10):\n",
    "        \n",
    "        if console == True:\n",
    "            matplotlib.use('Agg')\n",
    "        \n",
    "        if os.path.exists(path_dir):\n",
    "            shutil.rmtree(path_dir)\n",
    "        os.mkdir(path_dir)\n",
    "        self.info().to_csv(os.path.join(path_dir,\"Info.csv\"))\n",
    "        self.generate_pop_ini()\n",
    "        #print(self.fitness_func)\n",
    "        #print(False in [validate_individual(self.persons,i) for i in self.current_population])\n",
    "        self.show_dist_deggre_pop(size=size,save=os.path.join(path_dir,\"Dist_ini.pdf\"))\n",
    "        \n",
    "        folder_generations=os.path.join(path_dir,\"generations\")\n",
    "        os.mkdir(folder_generations)\n",
    "        for i in range(self.n_generations):\n",
    "            self.evolution()\n",
    "            #print(False in [validate_individual(self.persons,i) for i in self.current_population])\n",
    "            if i in np.around(np.linspace(plots,self.n_generations,plots)) :\n",
    "                self.show_dist_deggre_pop(size=size,save=os.path.join(folder_generations,\"generation_\"+str(i)+\".pdf\"))\n",
    "        \n",
    "        pd.DataFrame(self.generations).T.to_csv(os.path.join(path_dir,\"results_generations.csv\"))\n",
    "        self.plot_results(size=size,save=os.path.join(path_dir,\"Results.pdf\"))\n",
    "        \n",
    "        np.save(os.path.join(path_dir,\"best.npy\"),self.generations[self.n_generations]['Best Individual'])\n",
    "        \n",
    "        return 0\n",
    "        \n",
    "    def example_mutation_usual(self,save=None):\n",
    "        P=self.current_population\n",
    "        individual=P[np.random.choice(len(P))]\n",
    "        colors=['black','r']\n",
    "        fig,ax=plt.subplots(1,3,figsize=(15,5))\n",
    "        [axi.set_axis_off() for axi in ax.ravel()]\n",
    "        ax[0].title.set_text('Original')\n",
    "        ax[1].title.set_text('Mutation')\n",
    "        ax[2].title.set_text('Highlight Difference')\n",
    "        G=convert_individual_to_graph(self.persons,individual)\n",
    "        nx.draw_networkx(G,pos=nx.circular_layout(G),with_labels=True,ax=ax[0],width=2)\n",
    "        mut=mutation_usual(individual,self.persons)\n",
    "        X=convert_individual_to_graph(self.persons,mut)\n",
    "        nx.draw_networkx(X,pos=nx.circular_layout(X),with_labels=True,ax=ax[1],width=2)\n",
    "        effect=list(set(G.edges).symmetric_difference(set(X.edges)))\n",
    "        X.add_edges_from(effect)\n",
    "        nx.draw(X,pos=nx.circular_layout(X),with_labels=True,\n",
    "                         edge_color=tuple(colors[(i in effect)*1] for i in X.edges),\n",
    "                         width=2\n",
    "                        )\n",
    "        if save:\n",
    "            plt.savefig(save,dpi=300) \n",
    "        plt.show()\n",
    "        \n",
    "    def example_crossover_usual(self,save=None):\n",
    "        \n",
    "        P=self.current_population\n",
    "        I=P[np.random.choice(len(P),2)]\n",
    "        J=crossover_usual(I[0],I[1],self.persons)\n",
    "        I=np.concatenate((I,J))\n",
    "        fig,ax=plt.subplots(2,2,figsize=(10,10))\n",
    "        [axi.set_axis_off() for axi in ax.ravel()]\n",
    "        ax=ax.ravel()\n",
    "        [axi.title.set_text(title) for axi,title in zip(ax,['Parent 1','Parent 2','offspring 1','offspring 2'])]\n",
    "        G_s=[]\n",
    "        for axi,individual in zip(ax,I):\n",
    "            G=convert_individual_to_graph(self.persons,individual)\n",
    "            G_s.append(G)\n",
    "\n",
    "        colors=np.array(['g','r','b','orange'])\n",
    "        com=commons_f(G_s)\n",
    "        c=[]\n",
    "        c.append([colors[np.where([i in com[0],i in com[1]])[0][0]]  for i in G_s[0].edges])\n",
    "        c.append([colors[np.where([i in com[2],i in com[3]])[0][0]+2]  for i in G_s[1].edges])\n",
    "        c.append(colors[::2][[np.where([i in com[0],i in com[2]])[0][0] for i in G_s[2].edges]])\n",
    "        c.append(colors[1::2][[np.where([i in com[1],i in com[3]])[0][0] for i in G_s[3].edges]])\n",
    "\n",
    "\n",
    "        for axi,individual,col in zip(ax,G_s,c):\n",
    "            nx.draw_networkx(individual,pos=nx.circular_layout(individual),with_labels=True,ax=axi,width=2,edge_color=col)\n",
    "        if save:\n",
    "            plt.savefig(save,dpi=300) \n",
    "        plt.show()\n",
    "            \n",
    "            \n",
    "    def example_swap(self,save=None):\n",
    "        P=self.current_population\n",
    "        individual=P[np.random.choice(len(P))]\n",
    "        colors=['b','r']\n",
    "        fig,ax=plt.subplots(1,2,figsize=(12,5))\n",
    "        [axi.set_axis_off() for axi in ax.ravel()]\n",
    "        ax[0].title.set_text('Original')\n",
    "        ax[1].title.set_text('Swap')\n",
    "        swap,a,b=swap_mutation(individual,self.persons,test=True)\n",
    "        G=convert_individual_to_graph(self.persons,individual)\n",
    "        nx.draw_networkx(G,pos=nx.circular_layout(G),\n",
    "                         with_labels=True,ax=ax[0],width=2,node_color=[colors[i in [a,b]] for i in G.nodes])\n",
    "        G=convert_individual_to_graph(self.persons,swap)\n",
    "        nx.draw_networkx(G,pos=nx.circular_layout(G),\n",
    "                         with_labels=True,ax=ax[1],width=2,node_color=[colors[i in [a,b]] for i in G.nodes])\n",
    "        if save:\n",
    "            plt.savefig(save,dpi=300) \n",
    "        plt.show()\n",
    "\n",
    "    \n",
    "        \n",
    "        \n",
    "        "
   ]
  },
  {
   "cell_type": "code",
   "execution_count": 17,
   "metadata": {},
   "outputs": [],
   "source": [
    "H=HAEA(nombre=\"t1\",\n",
    "       persons=10,\n",
    "       individuals=30,\n",
    "       mode_initial_pop=pop_ini_bin,\n",
    "       n_generations=30,\n",
    "       p_mutation=None,\n",
    "       generacional=False,\n",
    "       fitness_func=fitness_basic,\n",
    "       operators=[(mutation_usual,1),(crossover_usual,2),(swap_mutation,1)])"
   ]
  },
  {
   "cell_type": "code",
   "execution_count": 18,
   "metadata": {},
   "outputs": [],
   "source": [
    "H.generate_pop_ini()"
   ]
  },
  {
   "cell_type": "code",
   "execution_count": 19,
   "metadata": {},
   "outputs": [
    {
     "data": {
      "text/plain": [
       "(array([11., 34., 23., 11.,  5., 36., 34., 27., 22., 10., 28., 35., 14.,\n",
       "         5.,  4., 31.,  8.,  7., 31., 26., 24., 19., 16., 32., 33., 10.,\n",
       "        22., 27., 23., 26.]),\n",
       " {'Average Fitness': 21.133333333333333,\n",
       "  'Best Individual': array([1., 0., 0., 0., 0., 0., 0., 0., 0., 1., 0., 1., 1., 0., 0., 0., 0.,\n",
       "         1., 0., 0., 0., 0., 0., 0., 0., 0., 1., 1., 1., 0., 0., 0., 0., 0.,\n",
       "         0., 0., 0., 0., 0., 0., 0., 0., 0., 1., 0.]),\n",
       "  'Fitness Best': 36.0,\n",
       "  'Fitness Worst': 4.0})"
      ]
     },
     "execution_count": 19,
     "metadata": {},
     "output_type": "execute_result"
    }
   ],
   "source": [
    "H.evaluate_pop(H.current_population)"
   ]
  },
  {
   "cell_type": "code",
   "execution_count": 20,
   "metadata": {},
   "outputs": [
    {
     "data": {
      "text/plain": [
       "array([1., 1., 1., 1., 1., 0., 1., 1., 1., 0., 1., 1., 0., 1., 0., 0., 1.,\n",
       "       1., 1., 1., 1., 1., 1., 1., 0., 0., 1., 1., 1., 1., 1., 1., 1., 0.,\n",
       "       0., 1., 1., 1., 0., 1., 1., 1., 1., 0., 1.])"
      ]
     },
     "execution_count": 20,
     "metadata": {},
     "output_type": "execute_result"
    }
   ],
   "source": [
    "individual=H.current_population[0]\n",
    "individual"
   ]
  },
  {
   "cell_type": "code",
   "execution_count": 25,
   "metadata": {},
   "outputs": [
    {
     "data": {
      "text/plain": [
       "2"
      ]
     },
     "execution_count": 25,
     "metadata": {},
     "output_type": "execute_result"
    }
   ],
   "source": [
    "n_offsprings=2\n",
    "n_offsprings"
   ]
  },
  {
   "cell_type": "code",
   "execution_count": null,
   "metadata": {},
   "outputs": [],
   "source": []
  },
  {
   "cell_type": "code",
   "execution_count": 54,
   "metadata": {},
   "outputs": [
    {
     "data": {
      "text/plain": [
       "(<function utils.mutation_usual(individual, n, p=None)>, 1)"
      ]
     },
     "execution_count": 54,
     "metadata": {},
     "output_type": "execute_result"
    }
   ],
   "source": [
    "index_operator=np.random.choice(np.arange(len(H.operators)),p=H.p_operators)\n",
    "operator,d=H.operators[index_operator]\n",
    "operator,d"
   ]
  },
  {
   "cell_type": "code",
   "execution_count": 55,
   "metadata": {},
   "outputs": [
    {
     "data": {
      "text/plain": [
       "array([[1., 1., 1., 1., 1., 0., 1., 1., 1., 0., 1., 1., 0., 1., 0., 0.,\n",
       "        1., 1., 1., 1., 1., 1., 1., 1., 0., 0., 1., 1., 1., 1., 1., 1.,\n",
       "        1., 0., 0., 1., 1., 1., 0., 1., 1., 1., 1., 0., 1.],\n",
       "       [1., 1., 1., 1., 1., 0., 1., 1., 1., 0., 1., 1., 0., 1., 0., 0.,\n",
       "        1., 1., 1., 1., 0., 1., 1., 1., 0., 0., 1., 1., 1., 1., 1., 1.,\n",
       "        1., 0., 0., 1., 1., 1., 0., 1., 0., 1., 1., 0., 1.]])"
      ]
     },
     "execution_count": 55,
     "metadata": {},
     "output_type": "execute_result"
    }
   ],
   "source": []
  },
  {
   "cell_type": "code",
   "execution_count": null,
   "metadata": {},
   "outputs": [],
   "source": [
    "H.operators[index_operator]()"
   ]
  },
  {
   "cell_type": "code",
   "execution_count": null,
   "metadata": {},
   "outputs": [],
   "source": [
    "H.operators[0][1]"
   ]
  },
  {
   "cell_type": "code",
   "execution_count": null,
   "metadata": {},
   "outputs": [],
   "source": [
    "len(H.operators[0])"
   ]
  },
  {
   "cell_type": "code",
   "execution_count": 9,
   "metadata": {},
   "outputs": [
    {
     "data": {
      "text/html": [
       "<div>\n",
       "<style scoped>\n",
       "    .dataframe tbody tr th:only-of-type {\n",
       "        vertical-align: middle;\n",
       "    }\n",
       "\n",
       "    .dataframe tbody tr th {\n",
       "        vertical-align: top;\n",
       "    }\n",
       "\n",
       "    .dataframe thead th {\n",
       "        text-align: right;\n",
       "    }\n",
       "</style>\n",
       "<table border=\"1\" class=\"dataframe\">\n",
       "  <thead>\n",
       "    <tr style=\"text-align: right;\">\n",
       "      <th></th>\n",
       "      <th>0</th>\n",
       "    </tr>\n",
       "  </thead>\n",
       "  <tbody>\n",
       "    <tr>\n",
       "      <th>0</th>\n",
       "      <td>&lt;function mutation_usual at 0x7f80eeb1dbf8&gt;</td>\n",
       "    </tr>\n",
       "    <tr>\n",
       "      <th>1</th>\n",
       "      <td>&lt;function crossover_usual at 0x7f80eeb1dc80&gt;</td>\n",
       "    </tr>\n",
       "    <tr>\n",
       "      <th>2</th>\n",
       "      <td>&lt;function swap_mutation at 0x7f80eeb1db70&gt;</td>\n",
       "    </tr>\n",
       "  </tbody>\n",
       "</table>\n",
       "</div>"
      ],
      "text/plain": [
       "                                              0\n",
       "0   <function mutation_usual at 0x7f80eeb1dbf8>\n",
       "1  <function crossover_usual at 0x7f80eeb1dc80>\n",
       "2    <function swap_mutation at 0x7f80eeb1db70>"
      ]
     },
     "execution_count": 9,
     "metadata": {},
     "output_type": "execute_result"
    }
   ],
   "source": [
    "pd.DataFrame(H.operators)"
   ]
  },
  {
   "cell_type": "code",
   "execution_count": 11,
   "metadata": {},
   "outputs": [],
   "source": [
    "A=[[mutation_usual,1],[crossover_usual,2],[swap_mutation,1]]"
   ]
  },
  {
   "cell_type": "code",
   "execution_count": 15,
   "metadata": {},
   "outputs": [
    {
     "data": {
      "text/plain": [
       "1"
      ]
     },
     "execution_count": 15,
     "metadata": {},
     "output_type": "execute_result"
    }
   ],
   "source": [
    "A[0][1]"
   ]
  },
  {
   "cell_type": "code",
   "execution_count": 43,
   "metadata": {},
   "outputs": [
    {
     "data": {
      "text/plain": [
       "array([0., 0., 1., 1., 0., 1., 1., 1., 0., 0., 1., 0., 1., 0., 0., 1., 0.,\n",
       "       0., 1., 1., 1., 1., 0., 1., 1., 1., 1., 0., 0., 1., 0., 1., 0., 0.,\n",
       "       1., 0., 0., 0., 1., 0., 0., 0., 1., 1., 1.])"
      ]
     },
     "execution_count": 43,
     "metadata": {},
     "output_type": "execute_result"
    }
   ],
   "source": []
  },
  {
   "cell_type": "code",
   "execution_count": 42,
   "metadata": {},
   "outputs": [
    {
     "data": {
      "text/plain": [
       "30"
      ]
     },
     "execution_count": 42,
     "metadata": {},
     "output_type": "execute_result"
    }
   ],
   "source": [
    "H.individuals"
   ]
  },
  {
   "cell_type": "code",
   "execution_count": 50,
   "metadata": {},
   "outputs": [
    {
     "data": {
      "text/plain": [
       "array([[1., 1., 1., 1., 1., 0., 1., 1., 1., 0., 1., 1., 0., 1., 0., 0.,\n",
       "        1., 1., 1., 1., 1., 1., 1., 1., 0., 0., 1., 1., 1., 1., 1., 1.,\n",
       "        1., 0., 0., 1., 1., 1., 0., 1., 1., 1., 1., 0., 1.],\n",
       "       [1., 0., 0., 0., 1., 0., 1., 0., 1., 1., 0., 0., 0., 0., 0., 1.,\n",
       "        0., 0., 0., 0., 1., 1., 0., 0., 0., 1., 0., 0., 1., 1., 1., 0.,\n",
       "        0., 1., 0., 0., 0., 0., 1., 1., 0., 1., 1., 0., 1.]])"
      ]
     },
     "execution_count": 50,
     "metadata": {},
     "output_type": "execute_result"
    }
   ],
   "source": [
    "np.array(H.operators[index_operator][0](individual,individual2,H.persons,1))"
   ]
  },
  {
   "cell_type": "code",
   "execution_count": null,
   "metadata": {},
   "outputs": [],
   "source": []
  }
 ],
 "metadata": {
  "kernelspec": {
   "display_name": "Python 3",
   "language": "python",
   "name": "python3"
  },
  "language_info": {
   "codemirror_mode": {
    "name": "ipython",
    "version": 3
   },
   "file_extension": ".py",
   "mimetype": "text/x-python",
   "name": "python",
   "nbconvert_exporter": "python",
   "pygments_lexer": "ipython3",
   "version": "3.7.3"
  }
 },
 "nbformat": 4,
 "nbformat_minor": 2
}
