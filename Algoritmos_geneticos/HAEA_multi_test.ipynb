{
 "cells": [
  {
   "cell_type": "code",
   "execution_count": 2,
   "metadata": {},
   "outputs": [],
   "source": [
    "from HAEA_multi import *"
   ]
  },
  {
   "cell_type": "code",
   "execution_count": 14,
   "metadata": {},
   "outputs": [],
   "source": [
    "if os.path.exists(\"test_haea_multi\") == True:\n",
    "    shutil.rmtree(\"test_haea_multi\")\n",
    "    os.mkdir(\"test_haea_multi\")"
   ]
  },
  {
   "cell_type": "code",
   "execution_count": null,
   "metadata": {},
   "outputs": [],
   "source": [
    "multi_runs_HAEA(root_path=\"test_haea_multi\",\n",
    "                runs=100,\n",
    "                nombre=\"test_haea_multi\",\n",
    "                persons=50,\n",
    "                individuals=200,\n",
    "                mode_initial_pop=pop_ini_uniform,\n",
    "                n_generations=100,\n",
    "                fitness_func=fitness_basic,\n",
    "                plots=3,\n",
    "                p_mutation=None,\n",
    "                n_offsprings=1,\n",
    "                operators=[(usual_mutation,1),(usual_crossover,2),(swap_mutation,1)],\n",
    "                generacional=False,\n",
    "                console=False)"
   ]
  },
  {
   "cell_type": "code",
   "execution_count": null,
   "metadata": {},
   "outputs": [],
   "source": []
  }
 ],
 "metadata": {
  "kernelspec": {
   "display_name": "Python 3",
   "language": "python",
   "name": "python3"
  },
  "language_info": {
   "codemirror_mode": {
    "name": "ipython",
    "version": 3
   },
   "file_extension": ".py",
   "mimetype": "text/x-python",
   "name": "python",
   "nbconvert_exporter": "python",
   "pygments_lexer": "ipython3",
   "version": "3.7.3"
  }
 },
 "nbformat": 4,
 "nbformat_minor": 2
}
